{
 "cells": [
  {
   "cell_type": "code",
   "execution_count": null,
   "id": "cf69e13b-64ca-4ebb-ad00-a8e31c6615cb",
   "metadata": {},
   "outputs": [],
   "source": [
    "\n",
    "import requests\n",
    "import json\n",
    "result= requests.get('https://api.stackexchange.com//2.3/questions?order=desc&sort=activity&site=stackoverflow')\n",
    "print(result.json())\n",
    "print(result.json()['items'])\n",
    "for questions in result.json()['items']:\n",
    "    print(questions['title'])\n",
    "    print(questions['link'])\n",
    "\n",
    "    print()\n",
    "for questions in result.json()['items']:\n",
    "\n",
    "  if questions['answer_count']==0:\n",
    "\n",
    "      print(questions['title'])\n",
    "      print(questions['link'])\n",
    "\n",
    "else:\n",
    "      print(\"skipped\")\n",
    "\n",
    "      print()"
   ]
  }
 ],
 "metadata": {
  "kernelspec": {
   "display_name": "Python [conda env:base] *",
   "language": "python",
   "name": "conda-base-py"
  },
  "language_info": {
   "codemirror_mode": {
    "name": "ipython",
    "version": 3
   },
   "file_extension": ".py",
   "mimetype": "text/x-python",
   "name": "python",
   "nbconvert_exporter": "python",
   "pygments_lexer": "ipython3",
   "version": "3.12.7"
  }
 },
 "nbformat": 4,
 "nbformat_minor": 5
}
